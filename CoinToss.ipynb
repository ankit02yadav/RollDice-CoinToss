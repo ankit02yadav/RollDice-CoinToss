{
 "cells": [
  {
   "cell_type": "code",
   "execution_count": 1,
   "id": "c295a31b-b4be-4fe5-9c60-8d83a418f40d",
   "metadata": {},
   "outputs": [],
   "source": [
    "import numpy as np"
   ]
  },
  {
   "cell_type": "code",
   "execution_count": 2,
   "id": "b6c370d5-8fd4-4eb6-8923-31be8a64120b",
   "metadata": {},
   "outputs": [],
   "source": [
    "number = 1000000"
   ]
  },
  {
   "cell_type": "code",
   "execution_count": 3,
   "id": "a6b5846a-31d8-43db-9a8f-1811a218b6e8",
   "metadata": {},
   "outputs": [],
   "source": [
    "CoinProbability = np.random.choice(['H', 'T'], size=100000)"
   ]
  },
  {
   "cell_type": "code",
   "execution_count": 4,
   "id": "554726c9-d3d0-4782-8fb5-66cc14485a33",
   "metadata": {},
   "outputs": [
    {
     "data": {
      "text/plain": [
       "array(['T', 'T', 'H', ..., 'H', 'T', 'H'], shape=(100000,), dtype='<U1')"
      ]
     },
     "execution_count": 4,
     "metadata": {},
     "output_type": "execute_result"
    }
   ],
   "source": [
    "CoinProbability"
   ]
  },
  {
   "cell_type": "code",
   "execution_count": 5,
   "id": "f63d4193-12cf-48f7-be67-51ba52c2f9b2",
   "metadata": {},
   "outputs": [],
   "source": [
    "count = np.array([0,0])"
   ]
  },
  {
   "cell_type": "code",
   "execution_count": 6,
   "id": "e8c38acc-d9c6-4060-ae5c-4aa176de55f0",
   "metadata": {},
   "outputs": [],
   "source": [
    "for i in CoinProbability:\n",
    "    if i == \"T\":\n",
    "        count[0] = count[0] + 1\n",
    "    else:\n",
    "        count[1] = count[1] + 1"
   ]
  },
  {
   "cell_type": "code",
   "execution_count": 7,
   "id": "629d9660-4d22-4046-86e5-23caf4a178b8",
   "metadata": {},
   "outputs": [
    {
     "data": {
      "text/plain": [
       "array([50178, 49822])"
      ]
     },
     "execution_count": 7,
     "metadata": {},
     "output_type": "execute_result"
    }
   ],
   "source": [
    "count"
   ]
  },
  {
   "cell_type": "code",
   "execution_count": 8,
   "id": "af8527b5-5278-4118-a11f-5e3cec347bd9",
   "metadata": {},
   "outputs": [
    {
     "name": "stdout",
     "output_type": "stream",
     "text": [
      "Total 1000000 toses\n",
      "Heads Appeare : 49822 times\n",
      "Tails Appeare : 50178 times\n",
      "Guess what even this is not 50/50 chance\n"
     ]
    }
   ],
   "source": [
    "print(f\"Total {number} toses\")\n",
    "print(f\"Heads Appeare : {count[1]} times\")\n",
    "print(f\"Tails Appeare : {count[0]} times\")\n",
    "if count[1] == count[0]:\n",
    "    print(f\"50/50 chance confirmed over {number} tosses\")\n",
    "else:\n",
    "    print(\"Guess what even this is not 50/50 chance\")"
   ]
  },
  {
   "cell_type": "code",
   "execution_count": null,
   "id": "b15d17d9-ef24-4e04-a9e7-151d040fdaf3",
   "metadata": {},
   "outputs": [],
   "source": []
  }
 ],
 "metadata": {
  "kernelspec": {
   "display_name": "Python 3 (ipykernel)",
   "language": "python",
   "name": "python3"
  },
  "language_info": {
   "codemirror_mode": {
    "name": "ipython",
    "version": 3
   },
   "file_extension": ".py",
   "mimetype": "text/x-python",
   "name": "python",
   "nbconvert_exporter": "python",
   "pygments_lexer": "ipython3",
   "version": "3.13.2"
  }
 },
 "nbformat": 4,
 "nbformat_minor": 5
}
