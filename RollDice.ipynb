{
 "cells": [
  {
   "cell_type": "code",
   "execution_count": 1,
   "id": "d86226b0-dcd6-46a3-8688-d0d312d52112",
   "metadata": {},
   "outputs": [],
   "source": [
    "import numpy as np"
   ]
  },
  {
   "cell_type": "code",
   "execution_count": 2,
   "id": "dd5ee3f5-8174-4b87-bf9f-05b6d537db3e",
   "metadata": {},
   "outputs": [],
   "source": [
    "number = 10000"
   ]
  },
  {
   "cell_type": "code",
   "execution_count": 3,
   "id": "32cfb3c4-5c3b-4885-a5a6-a2135b2b3a59",
   "metadata": {},
   "outputs": [],
   "source": [
    "storage = np.random.randint(1, 7, size=number)"
   ]
  },
  {
   "cell_type": "code",
   "execution_count": 4,
   "id": "652da881-0802-4d3e-8111-1d68f68deb56",
   "metadata": {},
   "outputs": [
    {
     "data": {
      "text/plain": [
       "array([6, 1, 6, ..., 5, 6, 4], shape=(10000,), dtype=int32)"
      ]
     },
     "execution_count": 4,
     "metadata": {},
     "output_type": "execute_result"
    }
   ],
   "source": [
    "storage"
   ]
  },
  {
   "cell_type": "code",
   "execution_count": 5,
   "id": "2f52a5ab-01bf-40ba-8c7f-54ce2edb471c",
   "metadata": {},
   "outputs": [],
   "source": [
    "count = np.array([0,0,0,0,0,0])\n",
    "for i in storage:\n",
    "    if i == 1 :\n",
    "        count[0] = count[0] + 1\n",
    "    elif i == 2 :\n",
    "        count[1] = count[1] + 1;\n",
    "    elif i == 3:\n",
    "        count[2] = count[2] + 1;\n",
    "    elif i == 4:\n",
    "        count[3] = count[3] + 1;\n",
    "    elif i == 5:\n",
    "        count[4] = count[4] + 1;\n",
    "    elif i == 6:\n",
    "        count[5] = count[5] + 1;"
   ]
  },
  {
   "cell_type": "code",
   "execution_count": 6,
   "id": "a7901dab-3c12-4c11-89a0-bbb703078be2",
   "metadata": {},
   "outputs": [
    {
     "data": {
      "text/plain": [
       "array([1661, 1685, 1686, 1620, 1675, 1673])"
      ]
     },
     "execution_count": 6,
     "metadata": {},
     "output_type": "execute_result"
    }
   ],
   "source": [
    "count"
   ]
  },
  {
   "cell_type": "code",
   "execution_count": 7,
   "id": "5b1a77b6-f25a-4d76-9e82-510046f068b4",
   "metadata": {},
   "outputs": [
    {
     "name": "stdout",
     "output_type": "stream",
     "text": [
      "OUT OF 10000 Times\n",
      "Number 1 appeared 1661 Times \n",
      "Number 2 appeared 1685 Times\n",
      "Number 3 appeared 1686 Times \n",
      "Number 4 appeared 1620 Times\n",
      "Number 5 appeared 1675 Times\n",
      "Number 6 appeared 1673 Times \n",
      "\n"
     ]
    }
   ],
   "source": [
    "print(f\"OUT OF {number} Times\\nNumber 1 appeared {count[0]} Times \\nNumber 2 appeared {count[1]} Times\\nNumber 3 appeared {count[2]} Times \\nNumber 4 appeared {count[3]} Times\\nNumber 5 appeared {count[4]} Times\\nNumber 6 appeared {count[5]} Times \\n\")"
   ]
  },
  {
   "cell_type": "code",
   "execution_count": null,
   "id": "4ed89738-cc7a-47e7-971e-64d6f0d76d15",
   "metadata": {},
   "outputs": [],
   "source": []
  }
 ],
 "metadata": {
  "kernelspec": {
   "display_name": "Python 3 (ipykernel)",
   "language": "python",
   "name": "python3"
  },
  "language_info": {
   "codemirror_mode": {
    "name": "ipython",
    "version": 3
   },
   "file_extension": ".py",
   "mimetype": "text/x-python",
   "name": "python",
   "nbconvert_exporter": "python",
   "pygments_lexer": "ipython3",
   "version": "3.13.2"
  }
 },
 "nbformat": 4,
 "nbformat_minor": 5
}
